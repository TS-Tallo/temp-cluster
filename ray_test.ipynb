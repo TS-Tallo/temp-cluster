{
 "cells": [
  {
   "metadata": {},
   "cell_type": "markdown",
   "source": [
    "# Ray Test Script\n",
    "\n",
    "This notebook contains a series of tests to verify that Ray is working correctly on your system."
   ],
   "id": "83ea420fce1708c"
  },
  {
   "metadata": {},
   "cell_type": "code",
   "outputs": [],
   "execution_count": null,
   "source": "# Install ray if not installed",
   "id": "bf9258109b56332c"
  },
  {
   "metadata": {},
   "cell_type": "code",
   "outputs": [],
   "execution_count": null,
   "source": [
    "import os\n",
    "import time\n",
    "import numpy as np\n",
    "import ray\n",
    "\n",
    "# Initialize Ray\n",
    "ray.init()\n",
    "print(f\"Ray initialized with the following resources:\\n{ray.available_"
   ],
   "id": "8244b7c10f65581f"
  },
  {
   "metadata": {},
   "cell_type": "code",
   "outputs": [],
   "execution_count": null,
   "source": [
    "# Define a remote function\n",
    "@ray.remote\n",
    "def simple_function(x):\n",
    "    return x * x\n",
    "\n",
    "# Execute the function remotely\n",
    "futures = [simple_function.remote(i) for i in range(5)]\n",
    "results = ray.get(futures)\n",
    "print(\"Remote function results:\", results)"
   ],
   "id": "a996f4ef85794ccb"
  },
  {
   "metadata": {},
   "cell_type": "code",
   "outputs": [],
   "execution_count": null,
   "source": [
    "# Define a function that takes some time to complete\n",
    "@ray.remote\n",
    "def slow_function(i):\n",
    "    time.sleep(1)  # Simulate work taking 1 second\n",
    "    return i * 10\n",
    "\n",
    "# Execute in parallel\n",
    "start_time = time.time()\n",
    "futures = [slow_function.remote(i) for i in range(10)]\n",
    "results = ray.get(futures)\n",
    "end_time = time.time()\n",
    "\n",
    "print(f\"Parallel execution results: {results}\")\n",
    "print(f\"Parallel execution time: {end_time - start_time:.2f} seconds\")\n",
    "\n",
    "# Execute sequentially for comparison\n",
    "start_time = time.time()\n",
    "sequential_results = []\n",
    "for i in range(10):\n",
    "    sequential_results.append(i * 10)\n",
    "    time.sleep(1)  # Simulate work taking 1 second\n",
    "end_time = time.time()\n",
    "\n",
    "print(f\"Sequential execution results: {sequential_results}\")\n",
    "print(f\"Sequential execution time: {end_time - start_time:.2f} seconds"
   ],
   "id": "f8a2f7b0fab81118"
  },
  {
   "metadata": {},
   "cell_type": "code",
   "outputs": [],
   "execution_count": null,
   "source": [
    "# Define an actor\n",
    "@ray.remote\n",
    "class Counter:\n",
    "    def __init__(self):\n",
    "        self.value = 0\n",
    "\n",
    "    def increment(self):\n",
    "        self.value += 1\n",
    "        return self.value\n",
    "\n",
    "    def get_value(self):\n",
    "        return self.value\n",
    "\n",
    "# Create an actor\n",
    "counter = Counter.remote()\n",
    "\n",
    "# Call methods on the actor\n",
    "futures = [counter.increment.remote() for _ in range(5)]\n",
    "results = ray.get(futures)\n",
    "print(\"Actor method results:\", results)\n",
    "\n",
    "# Get the final counter value\n",
    "final_value = ray.get(counter.get_value.remote())"
   ],
   "id": "28e121febdb610b8"
  },
  {
   "metadata": {},
   "cell_type": "code",
   "outputs": [],
   "execution_count": null,
   "source": [
    "# Create a large array\n",
    "@ray.remote\n",
    "def process_chunk(chunk):\n",
    "    # Simulate some processing on a chunk of data\n",
    "    return np.sum(chunk)\n",
    "\n",
    "# Create a large array (100 million elements)\n",
    "data_size = 10_000_000\n",
    "large_array = np.ones(data_size, dtype=np.float32)\n",
    "\n",
    "# Split into chunks and process in parallel\n",
    "num_chunks = 10\n",
    "chunk_size = data_size // num_chunks\n",
    "chunks = [large_array[i:i+chunk_size] for i in range(0, data_size, chunk_size)]\n",
    "\n",
    "# Process chunks in parallel\n",
    "start_time = time.time()\n",
    "futures = [process_chunk.remote(chunk) for chunk in chunks]\n",
    "chunk_sums = ray.get(futures)\n",
    "total_sum = sum(chunk_sums)\n",
    "end_time = time.time()\n",
    "\n",
    "print(f\"Parallel sum: {total_sum}\")\n",
    "print(f\"Parallel processing time: {end_time - start_time:.4f} seconds\")\n",
    "\n",
    "# Process sequentially for comparison\n",
    "start_time = time.time()\n",
    "sequential_sum = sum(np.sum(chunk) for chunk in chunks)\n",
    "end_time = time.time()\n",
    "\n",
    "print(f\"Sequential sum: {sequential_sum}\")\n",
    "print(f\"Sequential processing time: {end_time - start_time:.4f} seconds\")"
   ],
   "id": "527fef04852a6ef9"
  },
  {
   "metadata": {},
   "cell_type": "code",
   "outputs": [],
   "execution_count": null,
   "source": [
    "# Clean up Ray resources\n",
    "ray.shutdown()\n",
    "print(\"Ray resources released.\")"
   ],
   "id": "9a09665bb4f84faf"
  }
 ],
 "metadata": {
  "kernelspec": {
   "display_name": "Python 3",
   "language": "python",
   "name": "python3"
  },
  "language_info": {
   "codemirror_mode": {
    "name": "ipython",
    "version": 2
   },
   "file_extension": ".py",
   "mimetype": "text/x-python",
   "name": "python",
   "nbconvert_exporter": "python",
   "pygments_lexer": "ipython2",
   "version": "2.7.6"
  }
 },
 "nbformat": 4,
 "nbformat_minor": 5
}
